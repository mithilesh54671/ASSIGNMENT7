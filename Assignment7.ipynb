{
 "cells": [
  {
   "cell_type": "markdown",
   "id": "d9708d0d-dfec-480a-948e-1354a8c46150",
   "metadata": {},
   "source": [
    "Q1. What is Abstraction in OOps? Explain with an example."
   ]
  },
  {
   "cell_type": "code",
   "execution_count": 6,
   "id": "cfdcaf35-e990-47bb-9d96-403e7f177177",
   "metadata": {},
   "outputs": [],
   "source": [
    "#A process hiding an implementation details from user , only the functionality will provided to user"
   ]
  },
  {
   "cell_type": "code",
   "execution_count": 1,
   "id": "a3032691-942a-4e61-8b3a-40bc831d9652",
   "metadata": {},
   "outputs": [],
   "source": [
    "import abc\n",
    "class pwskills :\n",
    "    @abc.abstractmethod\n",
    "    def student_details(self):\n",
    "        pass \n",
    "    @abc.abstractmethod\n",
    "    def student_marks(self):\n",
    "        pass"
   ]
  },
  {
   "cell_type": "code",
   "execution_count": 2,
   "id": "5d3debfe-f310-487a-941a-68a776164814",
   "metadata": {},
   "outputs": [],
   "source": [
    "class student_details(pwskills):\n",
    "    \n",
    "    def student_details(self):\n",
    "        return \"this is a meth for taking student details\"\n",
    "    \n",
    "    def student_assignment(self):\n",
    "        return \"this is a meth for assign details for a particualt student\""
   ]
  },
  {
   "cell_type": "code",
   "execution_count": 3,
   "id": "26d8ef5b-1ec3-480f-abd4-afcd89b8ffc1",
   "metadata": {},
   "outputs": [],
   "source": [
    "class data_science_master(pwskills):\n",
    "    \n",
    "    def student_details(self):\n",
    "        return \"this will return details for data science master\"\n",
    "    \n",
    "    def student_asignment(self):\n",
    "        return \"this will give you a student assignment details for  data science master\"\n",
    "    "
   ]
  },
  {
   "cell_type": "code",
   "execution_count": 4,
   "id": "eee050cc-f5e5-415a-a599-f0c0fc143ca8",
   "metadata": {},
   "outputs": [
    {
     "data": {
      "text/plain": [
       "'this will return details for data science master'"
      ]
     },
     "execution_count": 4,
     "metadata": {},
     "output_type": "execute_result"
    }
   ],
   "source": [
    "dsm  = data_science_master()\n",
    "dsm.student_details()"
   ]
  },
  {
   "cell_type": "code",
   "execution_count": 5,
   "id": "fe431042-ae17-4a09-975e-3756edad5cbb",
   "metadata": {},
   "outputs": [
    {
     "data": {
      "text/plain": [
       "'this is a meth for taking student details'"
      ]
     },
     "execution_count": 5,
     "metadata": {},
     "output_type": "execute_result"
    }
   ],
   "source": [
    "sd = student_details()\n",
    "sd.student_details()"
   ]
  },
  {
   "cell_type": "markdown",
   "id": "04e9b6cb-28eb-4681-8149-932aa8582c1a",
   "metadata": {},
   "source": [
    "Q2. Differentiate between Abstraction and Encapsulation. Explain with an example."
   ]
  },
  {
   "cell_type": "code",
   "execution_count": 7,
   "id": "c4bceee5-b877-4ea9-91f4-3161f3403a89",
   "metadata": {},
   "outputs": [],
   "source": [
    "# Abstraction is the method of hiding the unwanted information. hereas encapsulation is a method to hide the data in a single entity or unit along with a method to protect information from out side. 4. we can implement  abstraction using abstract class and interfaces."
   ]
  },
  {
   "cell_type": "code",
   "execution_count": 10,
   "id": "d37bd4df-1d1c-40a8-b3c7-98e3beb30ec3",
   "metadata": {},
   "outputs": [],
   "source": [
    "class test:\n",
    "    def __init__(self ,a , b):\n",
    "        self.a = b\n",
    "        self.b = b"
   ]
  },
  {
   "cell_type": "code",
   "execution_count": 11,
   "id": "6a4d6441-f436-40b0-ad5d-6b115beef68a",
   "metadata": {},
   "outputs": [],
   "source": [
    "t = test(23,34)"
   ]
  },
  {
   "cell_type": "code",
   "execution_count": 12,
   "id": "b9b4336f-4622-4171-8b9d-6ea4c0f98f8b",
   "metadata": {},
   "outputs": [],
   "source": [
    "t.a = 23564"
   ]
  },
  {
   "cell_type": "code",
   "execution_count": 13,
   "id": "b12c51be-1b68-4cb0-afb2-05041112d4e8",
   "metadata": {},
   "outputs": [
    {
     "data": {
      "text/plain": [
       "23564"
      ]
     },
     "execution_count": 13,
     "metadata": {},
     "output_type": "execute_result"
    }
   ],
   "source": [
    "t.a"
   ]
  },
  {
   "cell_type": "code",
   "execution_count": 14,
   "id": "2d043459-10fa-4c99-87cb-e6a0389f6976",
   "metadata": {},
   "outputs": [],
   "source": [
    "import abc\n",
    "class pwskills :\n",
    "    @abc.abstractmethod\n",
    "    def student_details(self):\n",
    "        pass \n",
    "    @abc.abstractmethod\n",
    "    def student_marks(self):\n",
    "        pass"
   ]
  },
  {
   "cell_type": "code",
   "execution_count": 15,
   "id": "e2217683-dc5b-4c36-bd24-26e94a0612a9",
   "metadata": {},
   "outputs": [],
   "source": [
    "class student_details(pwskills):\n",
    "    \n",
    "    def student_details(self):\n",
    "        return \"this is a meth for taking student details\"\n",
    "    \n",
    "    def student_assignment(self):\n",
    "        return \"this is a meth for assign details for a particualt student\""
   ]
  },
  {
   "cell_type": "code",
   "execution_count": 16,
   "id": "9249a99c-c562-4e11-894d-209900df41cc",
   "metadata": {},
   "outputs": [],
   "source": [
    "class data_science_master(pwskills):\n",
    "    \n",
    "    def student_details(self):\n",
    "        return \"this will return details for data science master\"\n",
    "    \n",
    "    def student_asignment(self):\n",
    "        return \"this will give you a student assignment details for  data science master\""
   ]
  },
  {
   "cell_type": "code",
   "execution_count": 17,
   "id": "162fac8a-cc58-43d7-8c46-e8b9ab7644d9",
   "metadata": {},
   "outputs": [
    {
     "data": {
      "text/plain": [
       "'this will return details for data science master'"
      ]
     },
     "execution_count": 17,
     "metadata": {},
     "output_type": "execute_result"
    }
   ],
   "source": [
    "dsm  = data_science_master()\n",
    "dsm.student_details()"
   ]
  },
  {
   "cell_type": "code",
   "execution_count": 18,
   "id": "7f97a28b-743f-4a65-84d1-1db532b18176",
   "metadata": {},
   "outputs": [
    {
     "data": {
      "text/plain": [
       "'this is a meth for taking student details'"
      ]
     },
     "execution_count": 18,
     "metadata": {},
     "output_type": "execute_result"
    }
   ],
   "source": [
    "sd = student_details()\n",
    "sd.student_details()"
   ]
  },
  {
   "cell_type": "markdown",
   "id": "65b49322-fa71-435f-a1af-f1a9106224b8",
   "metadata": {},
   "source": [
    "Q3. What is abc module in python? Why is it used?"
   ]
  },
  {
   "cell_type": "code",
   "execution_count": 19,
   "id": "a8d9e2c1-11c8-41ac-aad2-f7977815f7d4",
   "metadata": {},
   "outputs": [],
   "source": [
    "#python has a module called abc (abstract base class ) that offers the necessary tools for crafting an abstratct base class."
   ]
  },
  {
   "cell_type": "markdown",
   "id": "ed2dfb21-8098-4267-bb03-6cd0c55f3693",
   "metadata": {},
   "source": [
    "Q4. How can we achieve data abstraction?"
   ]
  },
  {
   "cell_type": "code",
   "execution_count": 20,
   "id": "4cc3a6d8-630d-4aa4-b0ff-adeb25493382",
   "metadata": {},
   "outputs": [],
   "source": [
    "import abc\n",
    "class pwskills :\n",
    "    @abc.abstractmethod\n",
    "    def student_details(self):\n",
    "        pass \n",
    "    @abc.abstractmethod\n",
    "    def student_marks(self):\n",
    "        pass"
   ]
  },
  {
   "cell_type": "code",
   "execution_count": 21,
   "id": "e0afb737-fdfa-4f5d-a8cd-4af78d481ca5",
   "metadata": {},
   "outputs": [],
   "source": [
    "class student_details(pwskills):\n",
    "    \n",
    "    def student_details(self):\n",
    "        return \"this is a meth for taking student details\"\n",
    "    \n",
    "    def student_assignment(self):\n",
    "        return \"this is a meth for assign details for a particualt student\""
   ]
  },
  {
   "cell_type": "code",
   "execution_count": 22,
   "id": "8767ec27-5157-4df5-8826-dd2d6b7258ca",
   "metadata": {},
   "outputs": [],
   "source": [
    "class data_science_master(pwskills):\n",
    "    \n",
    "    def student_details(self):\n",
    "        return \"this will return details for data science master\"\n",
    "    \n",
    "    def student_asignment(self):\n",
    "        return \"this will give you a student assignment details for  data science master\""
   ]
  },
  {
   "cell_type": "code",
   "execution_count": 23,
   "id": "7a71c632-b40a-426a-a508-46e399156bb5",
   "metadata": {},
   "outputs": [
    {
     "data": {
      "text/plain": [
       "'this will return details for data science master'"
      ]
     },
     "execution_count": 23,
     "metadata": {},
     "output_type": "execute_result"
    }
   ],
   "source": [
    "dsm  = data_science_master()\n",
    "dsm.student_details()"
   ]
  },
  {
   "cell_type": "code",
   "execution_count": 24,
   "id": "a63e4250-3867-43e9-a121-b048fe975f7d",
   "metadata": {},
   "outputs": [
    {
     "data": {
      "text/plain": [
       "'this is a meth for taking student details'"
      ]
     },
     "execution_count": 24,
     "metadata": {},
     "output_type": "execute_result"
    }
   ],
   "source": [
    "sd = student_details()\n",
    "sd.student_details()"
   ]
  },
  {
   "cell_type": "markdown",
   "id": "f98e5af1-8a52-4f60-bd78-b68311a7e5a5",
   "metadata": {},
   "source": [
    "Q5. Can we create an instance of an abstract class? Explain your answer."
   ]
  },
  {
   "cell_type": "code",
   "execution_count": 25,
   "id": "9b7afaf7-ae2f-41c3-8ce6-311cb0bb0333",
   "metadata": {},
   "outputs": [],
   "source": [
    "# Abstarct class cannot be instantiated, but they can be subclassed. when an abstract class is subclassed, the subclass usually provides implementations for all of abstract methods"
   ]
  },
  {
   "cell_type": "code",
   "execution_count": 26,
   "id": "1526bd52-edbf-4243-a607-6ac6aaebe6b8",
   "metadata": {},
   "outputs": [],
   "source": [
    "class pwskills :\n",
    "    def __init__(self , name, email):\n",
    "        \n",
    "        self.name = name\n",
    "        self.email = email\n",
    "        \n",
    "    def student_details(self):\n",
    "        print(self.name , self.email)"
   ]
  },
  {
   "cell_type": "code",
   "execution_count": 27,
   "id": "19ea468a-ad74-41b8-b250-7db81b9f035f",
   "metadata": {},
   "outputs": [],
   "source": [
    "pw = pwskills(\"mithi\" , \"mithi@gmail.com\")"
   ]
  },
  {
   "cell_type": "code",
   "execution_count": 28,
   "id": "a100a666-fd0c-4e2b-9d6c-8ef352b388ff",
   "metadata": {},
   "outputs": [
    {
     "data": {
      "text/plain": [
       "'mithi'"
      ]
     },
     "execution_count": 28,
     "metadata": {},
     "output_type": "execute_result"
    }
   ],
   "source": [
    "pw.name"
   ]
  },
  {
   "cell_type": "code",
   "execution_count": 29,
   "id": "24f56411-df5f-406c-b68c-1b07bc3f68c1",
   "metadata": {},
   "outputs": [
    {
     "data": {
      "text/plain": [
       "'mithi@gmail.com'"
      ]
     },
     "execution_count": 29,
     "metadata": {},
     "output_type": "execute_result"
    }
   ],
   "source": [
    "pw.email"
   ]
  },
  {
   "cell_type": "code",
   "execution_count": 31,
   "id": "15d8409e-8af2-43dc-90d4-55d08c780487",
   "metadata": {},
   "outputs": [
    {
     "name": "stdout",
     "output_type": "stream",
     "text": [
      "mithi mithi@gmail.com\n"
     ]
    }
   ],
   "source": [
    "pw.student_details()"
   ]
  },
  {
   "cell_type": "code",
   "execution_count": 32,
   "id": "ddb28462-7877-4c68-97f8-d9a32b46bf6d",
   "metadata": {},
   "outputs": [],
   "source": [
    "class pwskills1 :\n",
    "    def __init__(self , name, email):\n",
    "        self.name = name\n",
    "        self.email = email\n",
    "        \n",
    "    @classmethod\n",
    "    def details(cls , name , email):\n",
    "        return cls(name, email)\n",
    "    \n",
    "    def student_details(self):\n",
    "        print(self.name , self.email)"
   ]
  },
  {
   "cell_type": "code",
   "execution_count": 33,
   "id": "e47210f9-413b-4fe1-b3b8-7d157a0888f5",
   "metadata": {},
   "outputs": [],
   "source": [
    "pw1 = pwskills1.details(\"gungun\" , \"gungun@gmail.com\")"
   ]
  },
  {
   "cell_type": "code",
   "execution_count": 34,
   "id": "86a91dd5-126a-472a-b589-86dbf9a19ffb",
   "metadata": {},
   "outputs": [
    {
     "data": {
      "text/plain": [
       "'gungun'"
      ]
     },
     "execution_count": 34,
     "metadata": {},
     "output_type": "execute_result"
    }
   ],
   "source": [
    "pw1.name"
   ]
  },
  {
   "cell_type": "code",
   "execution_count": 35,
   "id": "ec197298-0054-45ab-a553-3332430aff3c",
   "metadata": {},
   "outputs": [
    {
     "data": {
      "text/plain": [
       "'gungun@gmail.com'"
      ]
     },
     "execution_count": 35,
     "metadata": {},
     "output_type": "execute_result"
    }
   ],
   "source": [
    "pw1.email"
   ]
  },
  {
   "cell_type": "code",
   "execution_count": 36,
   "id": "c08cd49e-b567-48d4-a676-0909c7ee6306",
   "metadata": {},
   "outputs": [
    {
     "ename": "AttributeError",
     "evalue": "'pwskills1' object has no attribute 'student_details'",
     "output_type": "error",
     "traceback": [
      "\u001b[0;31m---------------------------------------------------------------------------\u001b[0m",
      "\u001b[0;31mAttributeError\u001b[0m                            Traceback (most recent call last)",
      "Cell \u001b[0;32mIn[36], line 1\u001b[0m\n\u001b[0;32m----> 1\u001b[0m \u001b[43mpw1\u001b[49m\u001b[38;5;241;43m.\u001b[39;49m\u001b[43mstudent_details\u001b[49m()\n",
      "\u001b[0;31mAttributeError\u001b[0m: 'pwskills1' object has no attribute 'student_details'"
     ]
    }
   ],
   "source": [
    "pw1.student_details()"
   ]
  },
  {
   "cell_type": "code",
   "execution_count": null,
   "id": "7667c196-218c-4dda-aee6-c4fc0e27c8cf",
   "metadata": {},
   "outputs": [],
   "source": []
  }
 ],
 "metadata": {
  "kernelspec": {
   "display_name": "Python 3 (ipykernel)",
   "language": "python",
   "name": "python3"
  },
  "language_info": {
   "codemirror_mode": {
    "name": "ipython",
    "version": 3
   },
   "file_extension": ".py",
   "mimetype": "text/x-python",
   "name": "python",
   "nbconvert_exporter": "python",
   "pygments_lexer": "ipython3",
   "version": "3.10.8"
  }
 },
 "nbformat": 4,
 "nbformat_minor": 5
}
